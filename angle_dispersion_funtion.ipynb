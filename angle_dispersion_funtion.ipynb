{
 "cells": [
  {
   "cell_type": "markdown",
   "metadata": {},
   "source": [
    "TO DO\n",
    "\n",
    "1. Make fits \n",
    "2. Find correlation plots\n",
    "3. Make S map with varying delta"
   ]
  },
  {
   "cell_type": "markdown",
   "metadata": {},
   "source": [
    "Importing the needed packages"
   ]
  },
  {
   "cell_type": "code",
   "execution_count": 8,
   "metadata": {},
   "outputs": [],
   "source": [
    "from os import sep\n",
    "import numpy as np\n",
    "import matplotlib.pyplot as plt\n",
    "# import aplpy\n",
    "import pandas as pd\n",
    "from astropy.io import fits\n",
    "from astropy.table import Table\n",
    "from astropy.coordinates import SkyCoord\n",
    "from scipy.optimize import curve_fit\n",
    "from matplotlib.animation import FuncAnimation"
   ]
  },
  {
   "cell_type": "markdown",
   "metadata": {},
   "source": [
    "Writing the funtions needed\n",
    "\n",
    "generate_RA_DEC_mesh generates RA and DEC mesh for the DATA which will be used for calculating the distances between different points.\n",
    "\n",
    "Calc_l find the distance between two points on the space returns the value in arcsecond\n"
   ]
  },
  {
   "cell_type": "code",
   "execution_count": 9,
   "metadata": {},
   "outputs": [],
   "source": [
    "def generate_RA_DEC_mesh(hdr):\n",
    "    \"\"\"generate_RA_DEC_mesh\n",
    "\n",
    "    Generates the RA and DEC grid for the intensity map\n",
    "\n",
    "    \"\"\"\n",
    "    if 'CDELT1' in hdr.header:\n",
    "        RA_delt = hdr.header['CDELT1']\n",
    "        DEC_delt = hdr.header['CDELT2']\n",
    "\n",
    "    if 'CD1_1' in hdr.header:\n",
    "        RA_delt = hdr.header['CD1_1']\n",
    "        DEC_delt = hdr.header['CD2_2']\n",
    "\n",
    "    RA_ref = (hdr.header['CRPIX1'])\n",
    "    DEC_ref = (hdr.header['CRPIX2'])\n",
    "    RA_ref_value = hdr.header['CRVAL1']\n",
    "    DEC_ref_value = hdr.header['CRVAL2']\n",
    "    RA_axis_len = hdr.header['NAXIS1']\n",
    "    DEC_axis_len = hdr.header['NAXIS2']\n",
    "\n",
    "    RA_axis = np.arange(1,RA_axis_len+1)\n",
    "    DEC_axis = np.arange(1,DEC_axis_len+1)\n",
    "    DEC_axis_modified = np.arange(1,RA_axis_len+1)\n",
    "    \n",
    "    DEC_array = (DEC_axis - DEC_axis_len/2)*DEC_delt + DEC_ref_value\n",
    "    DEC_array_modified = (DEC_axis_modified - RA_axis_len/2)*DEC_delt + DEC_ref_value\n",
    "    RA_array = RA_ref_value-(RA_axis - RA_axis_len/2)*(RA_delt*(-1)/np.cos(DEC_array_modified*0.01745))\n",
    "\n",
    "    # #making a meshgrid from the arrays\n",
    "    DEC_grid,RA_grid = np.meshgrid(DEC_array,RA_array , sparse=False, indexing='ij')\n",
    "    return DEC_grid,RA_grid\n",
    "\n",
    "def Calc_l(ra1,dec1,ra2,dec2):\n",
    "\n",
    "    c1 = SkyCoord(ra1,dec1,unit = 'deg')\n",
    "    c2 = SkyCoord(ra2,dec2,unit = 'deg')\n",
    "    sep = c1.separation(c2)\n",
    "    return sep.arcminute\n"
   ]
  },
  {
   "cell_type": "markdown",
   "metadata": {},
   "source": [
    "Importing the FITs file and some testing the data"
   ]
  },
  {
   "cell_type": "code",
   "execution_count": 10,
   "metadata": {},
   "outputs": [],
   "source": [
    "########## importing and testing the file\n",
    "FITS1 = '../FITS_file/OMC_BandE.fits'\n",
    "hdul = fits.open(FITS1)\n",
    "# print(hdul.info())\n",
    "MapStokesI = hdul[0]\n",
    "MapStokesQ = hdul[2]\n",
    "MapStokesU = hdul[4]\n",
    "MapDebPol = hdul[8]\n",
    "MapPolAngle = hdul[11]\n",
    "MapPolFlux = hdul[13]\n",
    "MapPolFluxError = hdul[14]\n",
    "\n",
    "\n",
    "MapPolSNR = MapPolFlux.copy()\n",
    "BlankedMapPol = MapDebPol.copy()\n",
    "BlankedMapPolAngle = MapPolAngle.copy()\n",
    "BlankedMapStokesI = MapStokesI.copy()\n",
    "BlankedMapStokesQ = MapStokesQ.copy()\n",
    "BlankedMapStokesU = MapStokesU.copy()\n",
    "\n",
    "######## taking points only with singal to noise ratio more than 2\n",
    "MapPolSNR.data[:] = np.nan\n",
    "MapPolSNR.data = MapPolFlux.data/MapPolFluxError.data\n",
    "Selector = (MapPolSNR.data < 2)\n",
    "\n",
    "BlankedMapPol.data[Selector] = np.nan\n",
    "BlankedMapPolAngle.data[Selector] = np.nan\n",
    "BlankedMapStokesI.data[Selector] = np.nan\n",
    "BlankedMapStokesQ.data[Selector] = np.nan\n",
    "BlankedMapStokesU.data[Selector] = np.nan\n",
    "\n",
    "############## generating the RA and DEC mesh\n",
    "DEC_grid,RA_grid = generate_RA_DEC_mesh(hdul[0])\n",
    "seperation = MapPolAngle.copy()"
   ]
  },
  {
   "cell_type": "markdown",
   "metadata": {},
   "source": [
    "Finding the value of angle dispersion function at the value 50,50 (pixel value)\n",
    "\n",
    "1st step: selecting points that lie in the annular ring\n",
    "\n",
    "2nd step: use this grid to select the polarization angles that lie in the annular ring\n",
    "\n",
    "3rd step: find the difference between the polarization angle at (50,50) and the annular ring\n",
    "\n",
    "4th step: square the difference and find rms value which will be the angle dispersion value"
   ]
  },
  {
   "cell_type": "code",
   "execution_count": 11,
   "metadata": {},
   "outputs": [
    {
     "name": "stdout",
     "output_type": "stream",
     "text": [
      "11.882757785154032\n",
      "11.882757785154032\n"
     ]
    }
   ],
   "source": [
    "\n",
    "############## Testing the algorithm at point x_index,y_index\n",
    "\n",
    "x_index = 50\n",
    "y_index = 50\n",
    "set_delta = 0.5\n",
    "############## making the filter for selecting points withing the ring\n",
    "seperation.data = Calc_l(RA_grid[x_index,y_index],DEC_grid[x_index,y_index],RA_grid,DEC_grid)\n",
    "seperation_selector = (seperation.data<0.5*set_delta)\n",
    "seperation.data[seperation_selector] = np.nan\n",
    "seperation_selector = (seperation.data>1.5*set_delta)\n",
    "seperation.data[seperation_selector] = np.nan\n",
    "\n",
    "\n",
    "############## first version\n",
    "AngleDiff = BlankedMapPolAngle.data - BlankedMapPolAngle.data[x_index,y_index]\n",
    "Angle_selector =AngleDiff>90\n",
    "AngleDiff[Angle_selector] = AngleDiff[Angle_selector] - 180\n",
    "Angle_selector = AngleDiff<-90\n",
    "AngleDiff[Angle_selector] = AngleDiff[Angle_selector] + 180\n",
    "seperation_selector = (seperation.data >0)\n",
    "S = np.nanmean(AngleDiff[seperation_selector]**2)**0.5\n",
    "print(S)\n",
    "\n",
    "\n",
    "############ second version\n",
    "tempa = BlankedMapStokesQ.data*BlankedMapStokesU.data[x_index,y_index] - BlankedMapStokesQ.data[x_index,y_index]*BlankedMapStokesU.data\n",
    "tempb = BlankedMapStokesQ.data*BlankedMapStokesQ.data[x_index,y_index] + BlankedMapStokesU.data*BlankedMapStokesU.data[x_index,y_index]\n",
    "\n",
    "AngleDiff_v2 = (180/np.pi)*0.5*np.arctan(tempa/tempb)\n",
    "Angle_selector_v2 =AngleDiff_v2>90\n",
    "AngleDiff_v2[Angle_selector_v2] = AngleDiff_v2[Angle_selector_v2] - 180\n",
    "Angle_selector_v2 = AngleDiff_v2<-90\n",
    "AngleDiff_v2[Angle_selector_v2] = AngleDiff_v2[Angle_selector_v2] + 180\n",
    "S2 = np.nanmean(AngleDiff_v2[seperation_selector]**2)**0.5\n",
    "print(S2)"
   ]
  },
  {
   "cell_type": "markdown",
   "metadata": {},
   "source": [
    "Use this one method over all the sky map with a nested for loop"
   ]
  },
  {
   "cell_type": "code",
   "execution_count": 12,
   "metadata": {},
   "outputs": [
    {
     "name": "stderr",
     "output_type": "stream",
     "text": [
      "/tmp/ipykernel_8192/3245415240.py:22: RuntimeWarning: Mean of empty slice\n",
      "  S = np.nanmean(AngleDiff[seperation_selector]**2)**0.5\n",
      "/tmp/ipykernel_8192/3245415240.py:33: RuntimeWarning: Mean of empty slice\n",
      "  S_v2 = np.nanmean(AngleDiff_v2[seperation_selector]**2)**0.5\n"
     ]
    }
   ],
   "source": [
    "\n",
    "########## Running the algorithm on each cell\n",
    "set_delta = 0.5   # in arcminute\n",
    "S_map = BlankedMapPolAngle.copy()\n",
    "S_map_v2 = BlankedMapPolAngle.copy()\n",
    "for i in range(RA_grid.shape[0]):\n",
    "    for j in range(RA_grid.shape[1]):\n",
    "\n",
    "        ##### seperation filter\n",
    "        seperation.data = Calc_l(RA_grid[i,j],DEC_grid[i,j],RA_grid,DEC_grid)\n",
    "        seperation_selector = (seperation.data<0.5*set_delta)\n",
    "        seperation.data[seperation_selector] = np.nan\n",
    "        seperation_selector = (seperation.data>1.5*set_delta)\n",
    "        seperation.data[seperation_selector] = np.nan\n",
    "        seperation_selector = (seperation.data >0)\n",
    "\n",
    "        ##### first version\n",
    "        AngleDiff = BlankedMapPolAngle.data - BlankedMapPolAngle.data[i,j]\n",
    "        Angle_selector =AngleDiff>90\n",
    "        AngleDiff[Angle_selector] = AngleDiff[Angle_selector] - 180\n",
    "        Angle_selector = AngleDiff<-90\n",
    "        AngleDiff[Angle_selector] = AngleDiff[Angle_selector] + 180\n",
    "        S = np.nanmean(AngleDiff[seperation_selector]**2)**0.5\n",
    "        S_map.data[i,j] = S\n",
    "\n",
    "        ##### second version\n",
    "        tempa = BlankedMapStokesQ.data*BlankedMapStokesU.data[i,j] - BlankedMapStokesQ.data[i,j]*BlankedMapStokesU.data\n",
    "        tempb = BlankedMapStokesQ.data*BlankedMapStokesQ.data[i,j] + BlankedMapStokesU.data*BlankedMapStokesU.data[i,j]\n",
    "        AngleDiff_v2 = 0.5*np.arctan(tempa/tempb)\n",
    "        Angle_selector_v2 =AngleDiff_v2>90\n",
    "        AngleDiff_v2[Angle_selector_v2] = AngleDiff_v2[Angle_selector_v2] - 180\n",
    "        Angle_selector_v2 = AngleDiff_v2<-90\n",
    "        AngleDiff_v2[Angle_selector_v2] = AngleDiff_v2[Angle_selector_v2] + 180\n",
    "        S_v2 = np.nanmean(AngleDiff_v2[seperation_selector]**2)**0.5\n",
    "        S_map_v2.data[i,j] = S_v2\n",
    "\n",
    "\n"
   ]
  },
  {
   "cell_type": "code",
   "execution_count": 13,
   "metadata": {},
   "outputs": [
    {
     "data": {
      "image/png": "[encoded data removed]",
      "text/plain": [
       "<Figure size 432x288 with 3 Axes>"
      ]
     },
     "metadata": {
      "needs_background": "light"
     },
     "output_type": "display_data"
    }
   ],
   "source": [
    "plt.figure()\n",
    "ax3 = plt.subplot(131)\n",
    "ax3.imshow(MapPolAngle.data,origin='lower')\n",
    "ax1 = plt.subplot(132)\n",
    "ax1.imshow(S_map.data,origin='lower')\n",
    "ax2 = plt.subplot(133)\n",
    "ax2.imshow(S_map_v2.data,origin='lower')\n",
    "ax3.set_title('Polarization Angle')\n",
    "ax1.set_title('ADF v1')\n",
    "ax2.set_title('ADF v2')\n",
    "plt.show()\n"
   ]
  },
  {
   "cell_type": "code",
   "execution_count": 14,
   "metadata": {},
   "outputs": [
    {
     "data": {
      "image/png": "[encoded data removed]",
      "text/plain": [
       "<Figure size 432x288 with 2 Axes>"
      ]
     },
     "metadata": {
      "needs_background": "light"
     },
     "output_type": "display_data"
    }
   ],
   "source": [
    "adf_v1 = S_map.data.flatten()\n",
    "adf_v2 = S_map_v2.data.flatten()\n",
    "plt.figure()\n",
    "\n",
    "\n",
    "ax1 = plt.subplot(122)\n",
    "ax1.plot(adf_v1,adf_v2)\n",
    "ax2 = plt.subplot(123)\n",
    "ax2.plot(adf_v1-adf_v2,adf_v1)\n",
    "ax1.set_title('ADFv1 vs ADFv2')\n",
    "ax2.set_title('ADFv1-ADFv2 vs ADFv1')\n",
    "plt.show()"
   ]
  },
  {
   "cell_type": "code",
   "execution_count": 15,
   "metadata": {},
   "outputs": [],
   "source": [
    "\n",
    "# s_map_array = S_map_v2.data.flatten()\n",
    "# Pol_array = BlankedMapPol.data.flatten()\n",
    "\n",
    "# y_min = np.nanmin(Pol_array)\n",
    "# y_max = 20\n",
    "  \n",
    "# x_min = np.nanmin(s_map_array)\n",
    "# x_max = np.nanmax(s_map_array)\n",
    "  \n",
    "# x_bins = np.arange(x_min, x_max, 0.01)\n",
    "# y_bins = np.arange(y_min, y_max, 0.1)\n",
    "\n",
    "# fig = plt.subplots(figsize =(10, 10))\n",
    "# # Creating plot\n",
    "# plt.hist2d(s_map_array,Pol_array,bins =[x_bins, y_bins])\n",
    "# plt.title(\"P X S 2D histogram\")\n",
    "# plt.ylabel('P [%]')\n",
    "# plt.xlabel('S [deg]')\n",
    "# plt.show()"
   ]
  },
  {
   "cell_type": "code",
   "execution_count": 16,
   "metadata": {},
   "outputs": [],
   "source": [
    "# def lin_fit(x, a, b):\n",
    "#     return a + b*x\n",
    "\n",
    "# s_map_array = S_map_v2.data.flatten()\n",
    "# Pol_array = BlankedMapPol.data.flatten()\n",
    "\n",
    "# log_s = np.log(s_map_array)\n",
    "# log_p = np.log(Pol_array)\n",
    "\n",
    "# y_min = np.nanmin(log_p)\n",
    "# y_max = np.log(50)\n",
    "  \n",
    "# x_min = np.nanmin(log_s)\n",
    "# x_max = np.nanmax(log_s)\n",
    "  \n",
    "# x_bins = np.arange(x_min, x_max, 0.075)\n",
    "# y_bins = np.arange(y_min, y_max, 0.075)\n",
    "\n",
    "# df = pd.DataFrame({'logp': log_p,'logs':log_s})\n",
    "# df = df.dropna()\n",
    "# param, param_cov = curve_fit(lin_fit, df['logs'], df['logp'])\n",
    "\n",
    "# fit_func = lin_fit(x_bins,param[0],param[1])\n",
    "# print(param[0],param[1])\n",
    "# fig = plt.subplots(figsize =(10, 10))\n",
    "# # Creating plot\n",
    "\n",
    "# plt.hist2d(log_s,log_p,bins =[x_bins, y_bins])\n",
    "# plt.plot(x_bins,fit_func,'r',linewidth=3)\n",
    "# plt.title(\"log P X log S 2D histogram\")\n",
    "# plt.ylabel('log P ')\n",
    "# plt.xlabel('log S ')\n",
    "# plt.show()"
   ]
  },
  {
   "cell_type": "code",
   "execution_count": 17,
   "metadata": {},
   "outputs": [],
   "source": [
    "\n",
    "# I_map_array = BlankedMapStokesI.data.flatten()\n",
    "\n",
    "# y_min = np.nanmin(Pol_array)\n",
    "# y_max = 20\n",
    "  \n",
    "# x_min = np.nanmin(I_map_array)\n",
    "# x_max = np.nanmax(I_map_array)\n",
    "  \n",
    "# x_bins = np.arange(x_min, x_max, 1)\n",
    "# y_bins = np.arange(y_min, y_max, 0.25)\n",
    "\n",
    "# fig = plt.subplots(figsize =(10, 10))\n",
    "# # Creating plot\n",
    "# plt.hist2d(I_map_array,Pol_array,bins =[x_bins, y_bins])\n",
    "# plt.title(\"P X I 2D histogram\")\n",
    "# plt.ylabel('P')\n",
    "# plt.xlabel('I')\n",
    "# plt.show()"
   ]
  },
  {
   "cell_type": "code",
   "execution_count": 18,
   "metadata": {},
   "outputs": [],
   "source": [
    "# I_map_array = BlankedMapStokesI.data.flatten()\n",
    "# Pol_array = BlankedMapPol.data.flatten()\n",
    "\n",
    "# log_I = np.log(I_map_array)\n",
    "# log_p = np.log(Pol_array)\n",
    "\n",
    "# y_min = np.nanmin(log_p)\n",
    "# y_max = np.log(50)\n",
    "  \n",
    "# x_min = np.nanmin(log_I)\n",
    "# x_max = np.nanmax(log_I)\n",
    "  \n",
    "# x_bins = np.arange(x_min, x_max, 0.05)\n",
    "# y_bins = np.arange(y_min, y_max, 0.05)\n",
    "\n",
    "# df = pd.DataFrame({'logI': log_I,'logp':log_p})\n",
    "# df = df.dropna()\n",
    "# param, param_cov = curve_fit(lin_fit, df['logI'], df['logp'])\n",
    "\n",
    "# fit_func = lin_fit(x_bins,param[0],param[1])\n",
    "# print(param[0],param[1])\n",
    "\n",
    "# fig = plt.subplots(figsize =(10, 10))\n",
    "# # Creating plot\n",
    "# plt.hist2d(log_I,log_p,bins =[x_bins, y_bins])\n",
    "# plt.plot(x_bins,fit_func,'r',linewidth=3)\n",
    "# plt.title(\"P X S 2D histogram\")\n",
    "# plt.ylabel('log p')\n",
    "# plt.xlabel('log I')\n",
    "# plt.show()"
   ]
  }
 ],
 "metadata": {
  "kernelspec": {
   "display_name": "Python 3.9.12 ('old_pol')",
   "language": "python",
   "name": "python3"
  },
  "language_info": {
   "codemirror_mode": {
    "name": "ipython",
    "version": 3
   },
   "file_extension": ".py",
   "mimetype": "text/x-python",
   "name": "python",
   "nbconvert_exporter": "python",
   "pygments_lexer": "ipython3",
   "version": "3.9.12"
  },
  "orig_nbformat": 4,
  "vscode": {
   "interpreter": {
    "hash": "e16b16c960affa37ed6a32d8eb625852d7b309ba91c8194cd625bda943d2de88"
   }
  }
 },
 "nbformat": 4,
 "nbformat_minor": 2
}

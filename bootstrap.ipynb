{
 "cells": [
  {
   "cell_type": "code",
   "execution_count": 37,
   "metadata": {},
   "outputs": [],
   "source": [
    "import numpy as np\n",
    "import matplotlib.pyplot as plt\n",
    "import matplotlib\n",
    "import aplpy\n",
    "import pandas as pd\n",
    "from astropy.io import fits\n",
    "from astropy.table import Table\n",
    "from astropy.coordinates import SkyCoord\n",
    "from scipy.optimize import curve_fit\n",
    "from astropy.stats import bootstrap\n",
    "plt.rcParams.update({'font.size': 18})\n",
    "# %matplotlib widget\n"
   ]
  },
  {
   "cell_type": "code",
   "execution_count": 38,
   "metadata": {},
   "outputs": [],
   "source": [
    "def generate_RA_DEC_mesh(hdr):\n",
    "    \"\"\"generate_RA_DEC_mesh\n",
    "\n",
    "    Generates the RA and DEC grid for the intensity map\n",
    "\n",
    "    \"\"\"\n",
    "    if 'CDELT1' in hdr.header:\n",
    "        RA_delt = hdr.header['CDELT1']\n",
    "        DEC_delt = hdr.header['CDELT2']\n",
    "\n",
    "    if 'CD1_1' in hdr.header:\n",
    "        RA_delt = hdr.header['CD1_1']\n",
    "        DEC_delt = hdr.header['CD2_2']\n",
    "\n",
    "    RA_ref = (hdr.header['CRPIX1'])\n",
    "    DEC_ref = (hdr.header['CRPIX2'])\n",
    "    RA_ref_value = hdr.header['CRVAL1']\n",
    "    DEC_ref_value = hdr.header['CRVAL2']\n",
    "    RA_axis_len = hdr.header['NAXIS1']\n",
    "    DEC_axis_len = hdr.header['NAXIS2']\n",
    "\n",
    "    RA_axis = np.arange(1,RA_axis_len+1)\n",
    "    DEC_axis = np.arange(1,DEC_axis_len+1)\n",
    "    DEC_axis_modified = np.arange(1,RA_axis_len+1)\n",
    "    \n",
    "    DEC_array = (DEC_axis - DEC_axis_len/2)*DEC_delt + DEC_ref_value\n",
    "    DEC_array_modified = (DEC_axis_modified - RA_axis_len/2)*DEC_delt + DEC_ref_value\n",
    "    RA_array = RA_ref_value-(RA_axis - RA_axis_len/2)*(RA_delt*(-1)/np.cos(DEC_array_modified*0.01745))\n",
    "\n",
    "    # #making a meshgrid from the arrays\n",
    "    DEC_grid,RA_grid = np.meshgrid(DEC_array,RA_array , sparse=False, indexing='ij')\n",
    "    return DEC_grid,RA_grid\n",
    "\n",
    "def Calc_l(ra1,dec1,ra2,dec2):\n",
    "\n",
    "    c1 = SkyCoord(ra1,dec1,unit = 'deg')\n",
    "    c2 = SkyCoord(ra2,dec2,unit = 'deg')\n",
    "    sep = c1.separation(c2)\n",
    "    return sep.arcminute\n",
    "    \n",
    "def wrapper(Angle_grid):\n",
    "    while ((np.nanmax(Angle_grid)>90) or (np.nanmin(Angle_grid)<-90)):\n",
    "        Angle_selector =Angle_grid>90\n",
    "        Angle_grid[Angle_selector] = Angle_grid[Angle_selector] - 180\n",
    "        Angle_selector = Angle_grid<-90\n",
    "        Angle_grid[Angle_selector] = Angle_grid[Angle_selector] + 180\n",
    "    return Angle_grid"
   ]
  },
  {
   "cell_type": "code",
   "execution_count": 39,
   "metadata": {},
   "outputs": [
    {
     "name": "stdout",
     "output_type": "stream",
     "text": [
      "Filename: ../FITS_file/DR21_Her250_Repr.fits\n",
      "No.    Name      Ver    Type      Cards   Dimensions   Format\n",
      "  0  STOKES I      1 PrimaryHDU    1094   (110, 93)   float64   \n",
      "None\n"
     ]
    }
   ],
   "source": [
    "########## importing and testing the file\n",
    "FITS1 = '../FITS_file/CygX_E_OTFMAP.fits'\n",
    "FITS2 = '../FITS_file/DR21_NH2_Repr.fits'\n",
    "FITS3 = '../FITS_file/DR21_Tdust_Repr.fits'\n",
    "FITS4 = '../FITS_file/DR21_IRAC4_Repr.fits'\n",
    "FITS5 = '../FITS_file/DR21_Her250_Repr.fits'\n",
    "hdul = fits.open(FITS1)\n",
    "hdul2 = fits.open(FITS2)\n",
    "hdul3 = fits.open(FITS3)\n",
    "hdul4 = fits.open(FITS4)\n",
    "hdul5 = fits.open(FITS5)\n",
    "print(hdul5.info())\n",
    "\n",
    "MapStokesI = hdul[0]\n",
    "MapStokesIError = hdul[1]\n",
    "\n",
    "MapStokesQ = hdul[2]\n",
    "MapStokesU = hdul[4]\n",
    "MapDebPol = hdul[8]\n",
    "MapDebPolError = hdul[9]\n",
    "MapPolAngleNonRotated = hdul[10]\n",
    "MapPolAngle = hdul[11]\n",
    "MapPolAngleError = hdul[12]\n",
    "MapPolFlux = hdul[13]\n",
    "MapPolFluxError = hdul[14]\n",
    "MapColumndensity = hdul2[0]\n",
    "MapTemperature = hdul3[0]\n",
    "Map8Micron = hdul4[0]\n",
    "MapHer250 = hdul5[0]\n",
    "\n",
    "MapPolSNR = MapDebPol.copy()\n",
    "BlankedMapPol = MapDebPol.copy()\n",
    "BlankedMapPolError= MapDebPolError.copy()\n",
    "BlankedMapPolAngle = MapPolAngle.copy()\n",
    "BlankedMapPolAngleError = MapPolAngleError.copy()\n",
    "BlankedMapStokesI = MapStokesI.copy()\n",
    "BlankedMapStokesQ = MapStokesQ.copy()\n",
    "BlankedMapStokesU = MapStokesU.copy()\n",
    "BlankedMapColumnDensity = MapColumndensity.copy()\n",
    "BlankedMapTemperature = MapTemperature.copy()\n",
    "BlankedMapPolAngleNonRotated = MapPolAngleNonRotated.copy() \n",
    "BlankedMap8Mircon = Map8Micron.copy()\n",
    "BlankedMapHer250 = MapHer250.copy()\n",
    "\n",
    "######## taking points only with singal to noise ratio more than 3\n",
    "MapPolSNR.data[:] = np.nan\n",
    "MapPolSNR.data = MapDebPol.data/MapDebPolError.data\n",
    "Selector = (MapPolSNR.data < 3)\n",
    "\n",
    "BlankedMapPol.data[Selector] = np.nan\n",
    "BlankedMapPolAngle.data[Selector] = np.nan\n",
    "BlankedMapPolAngleError.data[Selector] = np.nan\n",
    "BlankedMapStokesI.data[Selector] = np.nan\n",
    "BlankedMapStokesQ.data[Selector] = np.nan\n",
    "BlankedMapStokesU.data[Selector] = np.nan\n",
    "BlankedMapPolAngleNonRotated.data[Selector] = np.nan\n",
    "BlankedMapColumnDensity.data[Selector] = np.nan\n",
    "BlankedMapTemperature.data[Selector] = np.nan\n",
    "BlankedMap8Mircon.data[Selector] = np.nan\n",
    "BlankedMapPolError.data[Selector] = np.nan\n",
    "# BlankedMapHer250.data[Selector] = np.nan\n",
    "\n",
    "Selector = (BlankedMapPol.data>50)\n",
    "BlankedMapPol.data[Selector] = np.nan\n",
    "BlankedMapPolAngle.data[Selector] = np.nan\n",
    "BlankedMapPolAngleError.data[Selector] = np.nan\n",
    "BlankedMapStokesI.data[Selector] = np.nan\n",
    "BlankedMapStokesQ.data[Selector] = np.nan\n",
    "BlankedMapStokesU.data[Selector] = np.nan\n",
    "BlankedMapPolAngleNonRotated.data[Selector] = np.nan\n",
    "BlankedMapColumnDensity.data[Selector] = np.nan\n",
    "BlankedMapTemperature.data[Selector] = np.nan\n",
    "BlankedMap8Mircon.data[Selector] = np.nan\n",
    "BlankedMapPolError.data[Selector] = np.nan\n",
    "\n",
    "# BlankedMapHer250.data[Selector] = np.nan\n",
    "\n",
    "\n",
    "Selector = MapStokesI.data/MapStokesIError.data < 25\n",
    "BlankedMapPol.data[Selector] = np.nan\n",
    "BlankedMapPolAngle.data[Selector] = np.nan\n",
    "BlankedMapPolAngleError.data[Selector] = np.nan\n",
    "BlankedMapStokesI.data[Selector] = np.nan\n",
    "BlankedMapStokesQ.data[Selector] = np.nan\n",
    "BlankedMapStokesU.data[Selector] = np.nan\n",
    "BlankedMapPolAngleNonRotated.data[Selector] = np.nan\n",
    "BlankedMapColumnDensity.data[Selector] = np.nan\n",
    "BlankedMapTemperature.data[Selector] = np.nan\n",
    "BlankedMap8Mircon.data[Selector] = np.nan\n",
    "BlankedMapPolError.data[Selector] = np.nan\n",
    "\n",
    "# BlankedMapHer250.data[Selector] = np.nan\n",
    "\n",
    "BlankedMapColumnDensity.data = BlankedMapColumnDensity.data*(BlankedMapStokesI.data/BlankedMapStokesI.data)\n",
    "BlankedMapTemperature.data = BlankedMapTemperature.data*(BlankedMapStokesI.data/BlankedMapStokesI.data)\n",
    "BlankedMap8Mircon.data = BlankedMap8Mircon.data*(BlankedMapStokesI.data/BlankedMapStokesI.data)\n",
    "BlankedMapPolAngleError.data = BlankedMapPolAngleError.data*(BlankedMapStokesI.data/BlankedMapStokesI.data)\n",
    "# BlankedMapHer250.data = BlankedMapHer250.data*(BlankedMapStokesI.data/BlankedMapStokesI.data)\n",
    "\n",
    "\n",
    "\n",
    "############## generating the RA and DEC mesh\n",
    "DEC_grid,RA_grid = generate_RA_DEC_mesh(hdul[0])\n",
    "seperation = MapPolAngle.copy()\n",
    "\n",
    "# plt.figure()\n",
    "# plt.imshow(BlankedMapStokesI.data,origin='lower',vmin = 1,vmax = 45)\n",
    "# plt.show()"
   ]
  },
  {
   "cell_type": "code",
   "execution_count": 40,
   "metadata": {},
   "outputs": [
    {
     "name": "stderr",
     "output_type": "stream",
     "text": [
      "/tmp/ipykernel_115873/1636006448.py:20: RuntimeWarning: Mean of empty slice\n",
      "  S = np.nanmean(AngleDiff_v2[seperation_selector]**2)**0.5\n",
      "/tmp/ipykernel_115873/1636006448.py:24: RuntimeWarning: Mean of empty slice\n",
      "  sigma_S = np.nanmean(BlankedMapPolAngleError.data[seperation_selector]**2)**0.5\n",
      "/tmp/ipykernel_115873/1636006448.py:28: RuntimeWarning: invalid value encountered in sqrt\n",
      "  S_map_deb.data = np.sqrt(S_map.data**2 - sigma_S_map.data**2)\n"
     ]
    }
   ],
   "source": [
    "\n",
    "set_delta = 0.5   # in arcminute\n",
    "S_map = BlankedMapPolAngle.copy()\n",
    "sigma_S_map = BlankedMapPolAngleError.copy()\n",
    "\n",
    "for i in range(RA_grid.shape[0]):\n",
    "    for j in range(RA_grid.shape[1]):\n",
    "\n",
    "        ##### seperation filter\n",
    "        seperation.data = Calc_l(RA_grid[i,j],DEC_grid[i,j],RA_grid,DEC_grid)\n",
    "        seperation_selector = (seperation.data<0.5*set_delta)\n",
    "        seperation.data[seperation_selector] = np.nan\n",
    "        seperation_selector = (seperation.data>1.5*set_delta)\n",
    "        seperation.data[seperation_selector] = np.nan\n",
    "        seperation_selector = (seperation.data >0)\n",
    "\n",
    "        ##### making the dispersion map\n",
    "        tempa = BlankedMapStokesQ.data*BlankedMapStokesU.data[i,j] - BlankedMapStokesQ.data[i,j]*BlankedMapStokesU.data\n",
    "        tempb = BlankedMapStokesQ.data*BlankedMapStokesQ.data[i,j] + BlankedMapStokesU.data*BlankedMapStokesU.data[i,j]\n",
    "        AngleDiff_v2 = 0.5 * (180/np.pi)*np.arctan2(tempa,tempb)\n",
    "        S = np.nanmean(AngleDiff_v2[seperation_selector]**2)**0.5\n",
    "        S_map.data[i,j] = S\n",
    "\n",
    "        ##### making the dispersion error map\n",
    "        sigma_S = np.nanmean(BlankedMapPolAngleError.data[seperation_selector]**2)**0.5\n",
    "        sigma_S_map.data[i,j] = sigma_S\n",
    "\n",
    "S_map_deb = S_map.copy()\n",
    "S_map_deb.data = np.sqrt(S_map.data**2 - sigma_S_map.data**2)\n",
    "\n",
    "# plt.figure(figsize=(8,8))\n",
    "# plt.imshow(S_map_deb.data,origin='lower')\n",
    "# plt.show()\n"
   ]
  },
  {
   "cell_type": "markdown",
   "metadata": {},
   "source": [
    "synthetic data for dispersion \n"
   ]
  },
  {
   "cell_type": "code",
   "execution_count": 41,
   "metadata": {},
   "outputs": [
    {
     "data": {
      "image/png": "[encoded data removed]",
      "text/plain": [
       "<Figure size 432x288 with 1 Axes>"
      ]
     },
     "metadata": {
      "needs_background": "light"
     },
     "output_type": "display_data"
    }
   ],
   "source": [
    "def gauss(x, *p):\n",
    "    A, mu, sigma = p\n",
    "    return A*np.exp(-(x-mu)**2/(2.*sigma**2))\n",
    "\n",
    "def hist_plot(array,delt):\n",
    "    amax = np.nanmax(array)\n",
    "    amin = np.nanmin(array)\n",
    "    abin = np.linspace(amin,amax,delt)\n",
    "    plt.figure()\n",
    "    plt.hist(array,abin,density=True)\n",
    "\n",
    "\n",
    "def gauss_fit(array,delt):\n",
    "    amax = np.nanmax(array)\n",
    "    amin = np.nanmin(array)\n",
    "    abin = np.linspace(amin,amax,delt)\n",
    "    hist, bin_edges = np.histogram(array,abin)\n",
    "    bin_centres = (bin_edges[:-1] + bin_edges[1:])/2\n",
    "    p0 = [np.nanmax(array), np.nanmean(array), np.nanstd(array)]\n",
    "    coeff, var_matrix = curve_fit(gauss, bin_centres, hist, p0=p0)\n",
    "    hist_fit = gauss(abin, *coeff)\n",
    "    plt.figure()\n",
    "    plt.hist(array,abin)\n",
    "    plt.plot(abin,hist_fit,label='$\\mu$ :{mean:.0f}{linebreak}$\\sigma$ :{std:.0f}'.format(linebreak='\\n',mean =coeff[1],std=coeff[2]))\n",
    "\n",
    "s_array = S_map_deb.data.flatten()\n",
    "sigma_s_array = sigma_S_map.data.flatten()\n",
    "\n",
    "s_array_ind = s_array.copy()\n",
    "s_array_ind = s_array_ind[::4]\n",
    "# s_array_ind = np.log(s_array_ind)\n",
    "\n",
    "sigma_s_array_ind = sigma_s_array.copy()\n",
    "sigma_s_array_ind = sigma_s_array_ind[::4]\n",
    "\n",
    "syn_s = np.random.normal(13,10,1000)\n",
    "selector = (syn_s < 0)\n",
    "syn_s_error= np.random.uniform(6,8,syn_s.shape[0])\n",
    "syn_s[selector] = np.nan\n",
    "syn_s_error[selector]= np.nan\n",
    "\n",
    "df_s = pd.DataFrame({'syn_s': syn_s,'syn_s_error':syn_s_error})\n",
    "df_s = df_s.dropna()\n",
    "\n",
    "# gauss_fit(df['syn_s_error'],100)\n",
    "hist_plot(df_s['syn_s_error'],50)\n",
    "# plt.legend()\n",
    "plt.show()\n",
    "\n"
   ]
  },
  {
   "cell_type": "markdown",
   "metadata": {},
   "source": [
    "Synthetic data for column density"
   ]
  },
  {
   "cell_type": "code",
   "execution_count": 68,
   "metadata": {},
   "outputs": [
    {
     "data": {
      "image/png": "[encoded data removed]",
      "text/plain": [
       "<Figure size 432x288 with 1 Axes>"
      ]
     },
     "metadata": {
      "needs_background": "light"
     },
     "output_type": "display_data"
    },
    {
     "data": {
      "image/png": "[encoded data removed]",
      "text/plain": [
       "<Figure size 432x288 with 1 Axes>"
      ]
     },
     "metadata": {
      "needs_background": "light"
     },
     "output_type": "display_data"
    }
   ],
   "source": [
    "def rndm(a, b, g, size=1):\n",
    "    \"\"\"Power-law gen for pdf(x)\\propto x^{g-1} for a<=x<=b\"\"\"\n",
    "    r = np.random.random(size=size)\n",
    "    ag, bg = a**g, b**g\n",
    "    return (ag + (bg - ag)*r)**(1./g)\n",
    "\n",
    "def powerlaw(x,*p):\n",
    "    a,power = p\n",
    "    return a*(x**(-1*power))\n",
    "\n",
    "def syn_error(x):\n",
    "    return np.random.normal(0,x*0.3,x.shape[0])\n",
    "\n",
    "nh2_array = BlankedMapColumnDensity.data.flatten()\n",
    "nh2_array_ind = nh2_array.copy()\n",
    "nh2_array_ind = nh2_array_ind[::4]\n",
    "array_min = np.nanmin(nh2_array_ind)\n",
    "nh2_array_ind = nh2_array_ind\n",
    "\n",
    "nh2_min = np.nanmin(nh2_array_ind)\n",
    "nh2_max = np.nanmax(nh2_array_ind)\n",
    "nh2_bins = np.linspace(nh2_min,nh2_max, 100)\n",
    "\n",
    "hist, bin_edges = np.histogram(nh2_array_ind,nh2_bins)\n",
    "temp_alpha = 1 + 1/(np.nanmean(np.log(nh2_array_ind/(np.nanmin(nh2_array_ind)))))\n",
    "alpha = temp_alpha*0.85\n",
    "syn_nh2 = rndm(nh2_min,nh2_max, g=(-1*alpha+1), size=syn_s.shape[0])\n",
    "syn_nh2_error = syn_error(syn_nh2)\n",
    "\n",
    "\n",
    "\n",
    "hist_plot(syn_nh2,100)\n",
    "# hist_plot(nh2_array_ind,100)\n",
    "plt.show()"
   ]
  },
  {
   "cell_type": "markdown",
   "metadata": {},
   "source": [
    "Synthetic data for Pfrac"
   ]
  },
  {
   "cell_type": "code",
   "execution_count": 72,
   "metadata": {},
   "outputs": [
    {
     "data": {
      "image/png": "[encoded data removed]",
      "text/plain": [
       "<Figure size 432x288 with 1 Axes>"
      ]
     },
     "metadata": {
      "needs_background": "light"
     },
     "output_type": "display_data"
    }
   ],
   "source": [
    "def lin_fit(x, a, b):\n",
    "    return a + b*x\n",
    "\n",
    "p_array = BlankedMapPol.data.flatten()\n",
    "p_error_array = BlankedMapPolError.data.flatten()\n",
    "\n",
    "p_array_ind = p_array.copy()\n",
    "p_array_ind = p_array_ind[::4]\n",
    "p_error_array_ind = p_error_array.copy()\n",
    "p_error_array_ind = p_error_array_ind[::4]\n",
    "\n",
    "\n",
    "\n",
    "p_min = np.nanmin(p_array_ind)\n",
    "p_max = np.nanmax(p_array_ind)\n",
    "p_bins = np.linspace(p_min, p_max, 150)\n",
    "\n",
    "selector = ~np.isnan(p_array_ind)\n",
    "p_array_fil = p_array_ind[selector]\n",
    "p_error_array_fil = p_error_array_ind[selector]\n",
    "\n",
    "\n",
    "param, param_cov = curve_fit(lin_fit, p_array_fil, p_error_array_fil)\n",
    "FitFunc = lin_fit(p_bins,param[0],param[1])\n",
    "\n",
    "\n",
    "plt.scatter(p_array_fil, p_error_array_fil)\n",
    "plt.plot(p_bins,FitFunc,label='a:{a:.3f}{linebreak}b :{b:.3f}'.format(linebreak='  ',a =param[0],b=param[1]))\n",
    "plt.legend()\n",
    "plt.show()\n",
    "\n",
    "\n",
    "syn_p_temp = ((syn_s+syn_s_error)**(-1))*((syn_nh2+syn_nh2_error)**(-0.5))\n",
    "syn_p_error = syn_p_temp*0.206 + 0.025\n",
    "syn_p = syn_p_temp+syn_p_error\n",
    "\n",
    "# plt.scatter(syn_p, syn_p_error)\n",
    "# # plt.plot(p_bins,FitFunc,label='a:{a:.3f}{linebreak}b :{b:.3f}'.format(linebreak='  ',a =param[0],b=param[1]))\n",
    "# plt.legend()\n",
    "# plt.show()\n"
   ]
  },
  {
   "cell_type": "code",
   "execution_count": null,
   "metadata": {},
   "outputs": [],
   "source": []
  }
 ],
 "metadata": {
  "kernelspec": {
   "display_name": "Python 3.9.12 ('old_pol')",
   "language": "python",
   "name": "python3"
  },
  "language_info": {
   "codemirror_mode": {
    "name": "ipython",
    "version": 3
   },
   "file_extension": ".py",
   "mimetype": "text/x-python",
   "name": "python",
   "nbconvert_exporter": "python",
   "pygments_lexer": "ipython3",
   "version": "3.9.12"
  },
  "orig_nbformat": 4,
  "vscode": {
   "interpreter": {
    "hash": "e16b16c960affa37ed6a32d8eb625852d7b309ba91c8194cd625bda943d2de88"
   }
  }
 },
 "nbformat": 4,
 "nbformat_minor": 2
}
